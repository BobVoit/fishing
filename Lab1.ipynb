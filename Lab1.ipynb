{
 "cells": [
  {
   "cell_type": "markdown",
   "id": "1770c592-6b6e-409b-8169-716593ab6374",
   "metadata": {},
   "source": [
    "$x_{1}$ - скорость ветра\n",
    "\n",
    "$x_{2}$ - атмосферное давление\n",
    "\n",
    "$x_{3}$ - яркость солнца\n",
    "\n",
    "$x_{4}$ - перепад температуры воды"
   ]
  },
  {
   "cell_type": "code",
   "execution_count": 3,
   "id": "6aeeaf96-e402-4bd5-88f9-7ffedbe514f5",
   "metadata": {},
   "outputs": [],
   "source": [
    "import numpy as np\n",
    "\n",
    "class Neuron:\n",
    "    def __init__(self, x, w):\n",
    "        if type(x) is not np.ndarray:\n",
    "            raise Exception(\"x не является массивом nupmy\")\n",
    "        if type(w) is not np.ndarray:\n",
    "            raise Exception(\"w не является массивом nupmy\")\n",
    "        if len(x) != len(w):\n",
    "            raise Exception(\"Длина сигналов и весов не равны\")\n",
    "        self.x = x\n",
    "        self.w = w\n",
    "\n",
    "    def scalar(self):\n",
    "        return np.dot(self.x, self.w)"
   ]
  },
  {
   "cell_type": "code",
   "execution_count": 4,
   "id": "f7cace94-f9ae-401d-89dc-bb980ba30b85",
   "metadata": {},
   "outputs": [],
   "source": [
    "class NeuronFishing(Neuron):\n",
    "    def check(self):\n",
    "        return self.scalar() >= 5"
   ]
  },
  {
   "cell_type": "code",
   "execution_count": 6,
   "id": "18825fe1-b738-4d79-84c3-c9df9ed0bb8e",
   "metadata": {},
   "outputs": [
    {
     "name": "stdout",
     "output_type": "stream",
     "text": [
      "Можно идти на рабылку\n"
     ]
    }
   ],
   "source": [
    "import numpy as np\n",
    "\n",
    "w = np.array([5, 4, 1, 1])\n",
    "x = np.array([1, 0, 0, 1])\n",
    "\n",
    "neuron = NeuronFishing(x, w)\n",
    "\n",
    "if neuron.check():\n",
    "    print(\"Можно идти на рабылку\")\n",
    "else:\n",
    "    print(\"Не стоит идти на рабылку\")\n",
    "\n"
   ]
  },
  {
   "cell_type": "code",
   "execution_count": null,
   "id": "e4d29df9-ec7a-44b2-8bd1-9f6caf63ba30",
   "metadata": {},
   "outputs": [],
   "source": []
  }
 ],
 "metadata": {
  "kernelspec": {
   "display_name": "Python 3 (ipykernel)",
   "language": "python",
   "name": "python3"
  },
  "language_info": {
   "codemirror_mode": {
    "name": "ipython",
    "version": 3
   },
   "file_extension": ".py",
   "mimetype": "text/x-python",
   "name": "python",
   "nbconvert_exporter": "python",
   "pygments_lexer": "ipython3",
   "version": "3.11.5"
  }
 },
 "nbformat": 4,
 "nbformat_minor": 5
}
