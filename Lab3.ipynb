{
 "cells": [
  {
   "cell_type": "markdown",
   "id": "9c6aefed-67c8-4dd3-ba4d-abb37f213bfc",
   "metadata": {},
   "source": [
    "3. Выполнить одну итерацию цикла обучения по Δ -правилу однослойной бинарной однородной нейронной сети, состоящей из 2 нейронов и имеющей сигмоидальную функцию активации (k=1). В качестве обучающей выборки использовать таблицу истинности для операций импликации и конъюнкции (не использовать первую строчку таблицы). Синаптические веса задать случайным об"
   ]
  },
  {
   "cell_type": "code",
   "execution_count": 1,
   "id": "e634cf51-ba37-4f9f-9dcf-bef2d98ebe6a",
   "metadata": {},
   "outputs": [
    {
     "name": "stdout",
     "output_type": "stream",
     "text": [
      "Сгенерированные веса: [0.32998505 0.02785566]\n",
      "Обновленные веса: [0.34995428 0.04997186]\n"
     ]
    }
   ],
   "source": [
    "import random\n",
    "import math\n",
    "import numpy as np\n",
    "\n",
    "# Функция сигмоидальной активации\n",
    "def sigmoid(x):\n",
    "    return 1 / (1 + np.exp(-x))\n",
    "\n",
    "# Производная функции сигмоидальной активации\n",
    "def sigmoid_derivative(x):\n",
    "    return sigmoid(x) * (1 - sigmoid(x))\n",
    "\n",
    "# Обучающая выборка\n",
    "train_data = np.array([[0, 0], [0, 1], [1, 0], [1, 1]])\n",
    "\n",
    "# Целевые выходы для обучающей выборки (операция импликации)\n",
    "target_outputs = np.array([0, 1, 1, 1])\n",
    "\n",
    "# Инициализация синаптических весов случайными значениями\n",
    "weights = np.random.rand(2)\n",
    "\n",
    "print(f\"Сгенерированные веса: {weights}\")\n",
    "\n",
    "# Коэффициент обучения\n",
    "learning_rate = 0.1\n",
    "\n",
    "for i in range(len(train_data)):\n",
    "     # Получение входных значений из обучающей выборки\n",
    "    inputs = train_data[i]\n",
    "    \n",
    "    # Вычисление выхода нейронной сети\n",
    "    net_input = np.dot(inputs, weights)\n",
    "    net_output = sigmoid(net_input)\n",
    "    \n",
    "    # Вычисление ошибки выхода\n",
    "    error = target_outputs[i] - net_output\n",
    "    \n",
    "    # Обновление синаптических весов по Δ-правилу\n",
    "    delta = learning_rate * error * sigmoid_derivative(net_input)\n",
    "    weights += delta * inputs\n",
    "\n",
    "# Вывод обновленных синаптических весов\n",
    "print(f\"Обновленные веса: {weights}\")"
   ]
  },
  {
   "cell_type": "code",
   "execution_count": null,
   "id": "2a25e886-61ea-409c-a192-08fd2da13fb9",
   "metadata": {},
   "outputs": [],
   "source": []
  }
 ],
 "metadata": {
  "kernelspec": {
   "display_name": "Python 3 (ipykernel)",
   "language": "python",
   "name": "python3"
  },
  "language_info": {
   "codemirror_mode": {
    "name": "ipython",
    "version": 3
   },
   "file_extension": ".py",
   "mimetype": "text/x-python",
   "name": "python",
   "nbconvert_exporter": "python",
   "pygments_lexer": "ipython3",
   "version": "3.11.5"
  }
 },
 "nbformat": 4,
 "nbformat_minor": 5
}
